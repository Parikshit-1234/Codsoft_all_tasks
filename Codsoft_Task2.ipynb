{
 "cells": [
  {
   "cell_type": "markdown",
   "id": "5f1ab945-fb0f-42e8-8a06-207236f17733",
   "metadata": {},
   "source": [
    "# Name - Parikshit Sahu\n",
    "## Codsoft Task 2"
   ]
  },
  {
   "cell_type": "code",
   "execution_count": 1,
   "id": "223bb82b-06d5-483e-af3d-7878ce5d6606",
   "metadata": {},
   "outputs": [],
   "source": [
    "import math\n",
    "import random"
   ]
  },
  {
   "cell_type": "code",
   "execution_count": 2,
   "id": "df70c627-8290-4cb1-b165-cdb23d731bdf",
   "metadata": {},
   "outputs": [],
   "source": [
    "# Utility functions to check the state of the board\n",
    "def print_board(board):\n",
    "    for row in board:\n",
    "        print(\" | \".join(row))\n",
    "        print(\"-\" * 5)\n",
    "\n",
    "def check_winner(board, player):\n",
    "    # Check rows\n",
    "    for row in board:\n",
    "        if all([cell == player for cell in row]):\n",
    "            return True\n",
    "    # Check columns\n",
    "    for col in range(3):\n",
    "        if all([board[row][col] == player for row in range(3)]):\n",
    "            return True\n",
    "    # Check diagonals\n",
    "    if all([board[i][i] == player for i in range(3)]) or \\\n",
    "       all([board[i][2 - i] == player for i in range(3)]):\n",
    "        return True\n",
    "    return False\n",
    "\n",
    "def is_draw(board):\n",
    "    return all(cell != ' ' for row in board for cell in row)\n",
    "\n",
    "def get_available_moves(board):\n",
    "    return [(r, c) for r in range(3) for c in range(3) if board[r][c] == ' ']\n"
   ]
  },
  {
   "cell_type": "code",
   "execution_count": 3,
   "id": "c10b770a-8814-40e1-80cf-e462dc0c09b0",
   "metadata": {},
   "outputs": [],
   "source": [
    "def minimax(board, depth, is_maximizing, alpha, beta, player, opponent):\n",
    "    if check_winner(board, player):\n",
    "        return 10 - depth  # AI wins\n",
    "    elif check_winner(board, opponent):\n",
    "        return depth - 10  # Opponent wins\n",
    "    elif is_draw(board):\n",
    "        return 0  # Draw\n",
    "\n",
    "    if is_maximizing:\n",
    "        max_eval = -math.inf\n",
    "        for move in get_available_moves(board):\n",
    "            board[move[0]][move[1]] = player\n",
    "            eval = minimax(board, depth + 1, False, alpha, beta, player, opponent)\n",
    "            board[move[0]][move[1]] = ' '\n",
    "            max_eval = max(max_eval, eval)\n",
    "            alpha = max(alpha, eval)\n",
    "            if beta <= alpha:\n",
    "                break\n",
    "        return max_eval\n",
    "    else:\n",
    "        min_eval = math.inf\n",
    "        for move in get_available_moves(board):\n",
    "            board[move[0]][move[1]] = opponent\n",
    "            eval = minimax(board, depth + 1, True, alpha, beta, player, opponent)\n",
    "            board[move[0]][move[1]] = ' '\n",
    "            min_eval = min(min_eval, eval)\n",
    "            beta = min(beta, eval)\n",
    "            if beta <= alpha:\n",
    "                break\n",
    "        return min_eval\n"
   ]
  },
  {
   "cell_type": "code",
   "execution_count": 4,
   "id": "0ce71847-419c-4db4-b644-c764152a2282",
   "metadata": {},
   "outputs": [],
   "source": [
    "def ai_move(board, player, opponent):\n",
    "    best_move = None\n",
    "    best_score = -math.inf\n",
    "    alpha = -math.inf\n",
    "    beta = math.inf\n",
    "    for move in get_available_moves(board):\n",
    "        board[move[0]][move[1]] = player\n",
    "        score = minimax(board, 0, False, alpha, beta, player, opponent)\n",
    "        board[move[0]][move[1]] = ' '\n",
    "        if score > best_score:\n",
    "            best_score = score\n",
    "            best_move = move\n",
    "    return best_move\n"
   ]
  },
  {
   "cell_type": "code",
   "execution_count": 5,
   "id": "1590c140-f1f2-4682-9ea6-db5e208c3538",
   "metadata": {},
   "outputs": [],
   "source": [
    "def play_tic_tac_toe():\n",
    "    board = [[' ' for _ in range(3)] for _ in range(3)]\n",
    "    player = 'X'  # Player is X\n",
    "    ai = 'O'  # AI is O\n",
    "    current_player = 'X'\n",
    "    \n",
    "    print(\"Welcome to Tic-Tac-Toe!\")\n",
    "    \n",
    "    while True:\n",
    "        print_board(board)\n",
    "        \n",
    "        if current_player == player:\n",
    "            # Human player's turn\n",
    "            move = None\n",
    "            while move not in get_available_moves(board):\n",
    "                try:\n",
    "                    move = tuple(map(int, input(\"Enter your move (row col): \").split()))\n",
    "                except ValueError:\n",
    "                    continue\n",
    "            board[move[0]][move[1]] = player\n",
    "        else:\n",
    "            # AI's turn\n",
    "            print(\"AI is making its move...\")\n",
    "            move = ai_move(board, ai, player)\n",
    "            board[move[0]][move[1]] = ai\n",
    "        \n",
    "        if check_winner(board, current_player):\n",
    "            print_board(board)\n",
    "            if current_player == player:\n",
    "                print(\"You win!\")\n",
    "            else:\n",
    "                print(\"AI wins!\")\n",
    "            break\n",
    "        elif is_draw(board):\n",
    "            print_board(board)\n",
    "            print(\"It's a draw!\")\n",
    "            break\n",
    "        \n",
    "        # Switch players\n",
    "        current_player = ai if current_player == player else player\n"
   ]
  },
  {
   "cell_type": "code",
   "execution_count": 16,
   "id": "34da80f0-0590-45ed-ae0c-e1f376bfadb8",
   "metadata": {},
   "outputs": [
    {
     "name": "stdout",
     "output_type": "stream",
     "text": [
      "Welcome to Tic-Tac-Toe!\n",
      "  |   |  \n",
      "-----\n",
      "  |   |  \n",
      "-----\n",
      "  |   |  \n",
      "-----\n"
     ]
    },
    {
     "name": "stdin",
     "output_type": "stream",
     "text": [
      "Enter your move (row col):  0 0\n"
     ]
    },
    {
     "name": "stdout",
     "output_type": "stream",
     "text": [
      "X |   |  \n",
      "-----\n",
      "  |   |  \n",
      "-----\n",
      "  |   |  \n",
      "-----\n",
      "AI is making its move...\n",
      "X |   |  \n",
      "-----\n",
      "  | O |  \n",
      "-----\n",
      "  |   |  \n",
      "-----\n"
     ]
    },
    {
     "name": "stdin",
     "output_type": "stream",
     "text": [
      "Enter your move (row col):  0 2\n"
     ]
    },
    {
     "name": "stdout",
     "output_type": "stream",
     "text": [
      "X |   | X\n",
      "-----\n",
      "  | O |  \n",
      "-----\n",
      "  |   |  \n",
      "-----\n",
      "AI is making its move...\n",
      "X | O | X\n",
      "-----\n",
      "  | O |  \n",
      "-----\n",
      "  |   |  \n",
      "-----\n"
     ]
    },
    {
     "name": "stdin",
     "output_type": "stream",
     "text": [
      "Enter your move (row col):  2 1\n"
     ]
    },
    {
     "name": "stdout",
     "output_type": "stream",
     "text": [
      "X | O | X\n",
      "-----\n",
      "  | O |  \n",
      "-----\n",
      "  | X |  \n",
      "-----\n",
      "AI is making its move...\n",
      "X | O | X\n",
      "-----\n",
      "O | O |  \n",
      "-----\n",
      "  | X |  \n",
      "-----\n"
     ]
    },
    {
     "name": "stdin",
     "output_type": "stream",
     "text": [
      "Enter your move (row col):  1 2\n"
     ]
    },
    {
     "name": "stdout",
     "output_type": "stream",
     "text": [
      "X | O | X\n",
      "-----\n",
      "O | O | X\n",
      "-----\n",
      "  | X |  \n",
      "-----\n",
      "AI is making its move...\n",
      "X | O | X\n",
      "-----\n",
      "O | O | X\n",
      "-----\n",
      "  | X | O\n",
      "-----\n"
     ]
    },
    {
     "name": "stdin",
     "output_type": "stream",
     "text": [
      "Enter your move (row col):  2 0\n"
     ]
    },
    {
     "name": "stdout",
     "output_type": "stream",
     "text": [
      "X | O | X\n",
      "-----\n",
      "O | O | X\n",
      "-----\n",
      "X | X | O\n",
      "-----\n",
      "It's a draw!\n"
     ]
    }
   ],
   "source": [
    "play_tic_tac_toe()"
   ]
  },
  {
   "cell_type": "code",
   "execution_count": null,
   "id": "1aff1344-262d-4510-b950-d35d9ca47e3c",
   "metadata": {},
   "outputs": [],
   "source": []
  }
 ],
 "metadata": {
  "kernelspec": {
   "display_name": "Python 3 (ipykernel)",
   "language": "python",
   "name": "python3"
  },
  "language_info": {
   "codemirror_mode": {
    "name": "ipython",
    "version": 3
   },
   "file_extension": ".py",
   "mimetype": "text/x-python",
   "name": "python",
   "nbconvert_exporter": "python",
   "pygments_lexer": "ipython3",
   "version": "3.11.5"
  }
 },
 "nbformat": 4,
 "nbformat_minor": 5
}
