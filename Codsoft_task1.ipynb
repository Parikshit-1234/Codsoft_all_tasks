{
 "cells": [
  {
   "cell_type": "markdown",
   "id": "bddebd45-4d18-4e76-9104-96631c2bd80f",
   "metadata": {},
   "source": [
    "# Name - Parikshit Sahu\n",
    "## CodSoft Task 1"
   ]
  },
  {
   "cell_type": "code",
   "execution_count": 3,
   "id": "eba71f97-9e55-45cb-a99b-0cea320392d5",
   "metadata": {},
   "outputs": [
    {
     "name": "stdout",
     "output_type": "stream",
     "text": [
      "Chatbot: Hi there! Type 'bye' to exit.\n"
     ]
    },
    {
     "name": "stdin",
     "output_type": "stream",
     "text": [
      "You:  hello\n"
     ]
    },
    {
     "name": "stdout",
     "output_type": "stream",
     "text": [
      "Chatbot: Hello! How can I assist you today?\n"
     ]
    },
    {
     "name": "stdin",
     "output_type": "stream",
     "text": [
      "You:  how are you doing\n"
     ]
    },
    {
     "name": "stdout",
     "output_type": "stream",
     "text": [
      "Chatbot: I'm doing great, thank you! How can I help you?\n"
     ]
    },
    {
     "name": "stdin",
     "output_type": "stream",
     "text": [
      "You:  what is your name\n"
     ]
    },
    {
     "name": "stdout",
     "output_type": "stream",
     "text": [
      "Chatbot: I'm a chatbot created to assist you!\n"
     ]
    },
    {
     "name": "stdin",
     "output_type": "stream",
     "text": [
      "You:  help\n"
     ]
    },
    {
     "name": "stdout",
     "output_type": "stream",
     "text": [
      "Chatbot: Sure! What do you need help with?\n"
     ]
    },
    {
     "name": "stdin",
     "output_type": "stream",
     "text": [
      "You:  weather\n"
     ]
    },
    {
     "name": "stdout",
     "output_type": "stream",
     "text": [
      "Chatbot: I don't have real-time weather updates, but you can check a weather app for the latest info.\n"
     ]
    },
    {
     "name": "stdin",
     "output_type": "stream",
     "text": [
      "You:  ok\n"
     ]
    },
    {
     "name": "stdout",
     "output_type": "stream",
     "text": [
      "Chatbot: I'm sorry, I didn't quite understand. Could you ask that again?\n"
     ]
    },
    {
     "name": "stdin",
     "output_type": "stream",
     "text": [
      "You:  thanks\n"
     ]
    },
    {
     "name": "stdout",
     "output_type": "stream",
     "text": [
      "Chatbot: You're welcome!\n"
     ]
    },
    {
     "name": "stdin",
     "output_type": "stream",
     "text": [
      "You:  bye\n"
     ]
    },
    {
     "name": "stdout",
     "output_type": "stream",
     "text": [
      "Chatbot: Goodbye! Have a great day!\n"
     ]
    }
   ],
   "source": [
    "# Import necessary libraries\n",
    "import re\n",
    "\n",
    "# Function to clean up user input\n",
    "def clean_input(user_input):\n",
    "    return user_input.strip().lower()\n",
    "\n",
    "# Function to handle chatbot responses based on rules\n",
    "def chatbot_response(user_input):\n",
    "    user_input = clean_input(user_input)\n",
    "\n",
    "    # Define responses based on user input\n",
    "    if re.search(r'hello|hi|hey', user_input):\n",
    "        return \"Hello! How can I assist you today?\"\n",
    "    elif re.search(r'how are you|how are you doing', user_input):\n",
    "        return \"I'm doing great, thank you! How can I help you?\"\n",
    "    elif re.search(r'what is your name|who are you', user_input):\n",
    "        return \"I'm a chatbot created to assist you!\"\n",
    "    elif re.search(r'bye|goodbye', user_input):\n",
    "        return \"Goodbye! Have a great day!\"\n",
    "    elif re.search(r'help|assist', user_input):\n",
    "        return \"Sure! What do you need help with?\"\n",
    "    elif re.search(r'how to', user_input):\n",
    "        return \"Could you please provide more details so I can assist you better?\"\n",
    "    elif re.search(r'weather|rain|sun', user_input):\n",
    "        return \"I don't have real-time weather updates, but you can check a weather app for the latest info.\"\n",
    "    elif re.search(r'thank you|thanks', user_input):\n",
    "        return \"You're welcome!\"\n",
    "    else:\n",
    "        return \"I'm sorry, I didn't quite understand. Could you ask that again?\"\n",
    "\n",
    "# Main function to keep the chat going\n",
    "def chat():\n",
    "    print(\"Chatbot: Hi there! Type 'bye' to exit.\")\n",
    "    \n",
    "    while True:\n",
    "        user_input = input(\"You: \")\n",
    "        \n",
    "        # Exit condition\n",
    "        if clean_input(user_input) == 'bye':\n",
    "            print(\"Chatbot: Goodbye! Have a great day!\")\n",
    "            break\n",
    "        \n",
    "        # Generate and display chatbot's response\n",
    "        response = chatbot_response(user_input)\n",
    "        print(\"Chatbot:\", response)\n",
    "\n",
    "# Call the chat function to start the interaction\n",
    "chat()\n"
   ]
  },
  {
   "cell_type": "code",
   "execution_count": null,
   "id": "14589f4e-20c6-4e4f-b3b0-dca5b9bfe330",
   "metadata": {},
   "outputs": [],
   "source": []
  }
 ],
 "metadata": {
  "kernelspec": {
   "display_name": "Python 3 (ipykernel)",
   "language": "python",
   "name": "python3"
  },
  "language_info": {
   "codemirror_mode": {
    "name": "ipython",
    "version": 3
   },
   "file_extension": ".py",
   "mimetype": "text/x-python",
   "name": "python",
   "nbconvert_exporter": "python",
   "pygments_lexer": "ipython3",
   "version": "3.11.5"
  }
 },
 "nbformat": 4,
 "nbformat_minor": 5
}
